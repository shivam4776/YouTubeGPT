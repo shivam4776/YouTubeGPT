{
 "cells": [
  {
   "cell_type": "code",
   "execution_count": 2,
   "id": "7b55f425",
   "metadata": {},
   "outputs": [
    {
     "data": {
      "text/plain": [
       "True"
      ]
     },
     "execution_count": 2,
     "metadata": {},
     "output_type": "execute_result"
    }
   ],
   "source": [
    "from langchain_huggingface import HuggingFaceEndpoint, ChatHuggingFace, HuggingFaceEmbeddings\n",
    "from dotenv import load_dotenv\n",
    "from youtube_transcript_api import YouTubeTranscriptApi, TranscriptsDisabled\n",
    "from langchain.text_splitter import RecursiveCharacterTextSplitter\n",
    "from langchain.vectorstores import FAISS\n",
    "from langchain_core.prompts import PromptTemplate\n",
    "load_dotenv()"
   ]
  },
  {
   "cell_type": "code",
   "execution_count": 3,
   "id": "421fd0cd",
   "metadata": {},
   "outputs": [],
   "source": [
    "video_id =  \"MdeQMVBuGgY\"    #podcast video \n",
    "try:\n",
    "    transcript = YouTubeTranscriptApi.get_transcript(video_id, languages=['en'])\n",
    "    text_list=[]\n",
    "    for item in transcript:\n",
    "        text_list.append(item['text'])# Extract text from each segment of the transcript\n",
    "    full_caption= \" \".join(text_list)# Combine all text segments into a single string\n",
    "    # print(combined_text)\n",
    "\n",
    "except TranscriptsDisabled:\n",
    "    print(\"Transcript is disabled for this video.\")"
   ]
  },
  {
   "cell_type": "code",
   "execution_count": null,
   "id": "b3c9686a",
   "metadata": {},
   "outputs": [
    {
     "name": "stdout",
     "output_type": "stream",
     "text": [
      "265\n"
     ]
    }
   ],
   "source": [
    "#Splitting transcript into smaller chunks\n",
    "text_splitter = RecursiveCharacterTextSplitter(\n",
    "    chunk_size = 1000,\n",
    "    chunk_overlap= 300\n",
    ")\n",
    "full_caption_chunks = text_splitter.create_documents([full_caption])\n",
    "print(len(full_caption_chunks))"
   ]
  },
  {
   "cell_type": "code",
   "execution_count": 5,
   "id": "dfa4e66e",
   "metadata": {},
   "outputs": [
    {
     "name": "stderr",
     "output_type": "stream",
     "text": [
      "c:\\Users\\parul\\envs\\langchainVirtualEnv\\lib\\site-packages\\tqdm\\auto.py:21: TqdmWarning: IProgress not found. Please update jupyter and ipywidgets. See https://ipywidgets.readthedocs.io/en/stable/user_install.html\n",
      "  from .autonotebook import tqdm as notebook_tqdm\n"
     ]
    }
   ],
   "source": [
    "embedding = HuggingFaceEmbeddings()\n",
    "vectorstore = FAISS.from_documents(\n",
    "    full_caption_chunks,           # first argument: list of Document objects ALWAYS\n",
    "    embedding         # second artument: embedding model ALWAYS\n",
    ")"
   ]
  },
  {
   "cell_type": "code",
   "execution_count": 9,
   "id": "743bb338",
   "metadata": {},
   "outputs": [],
   "source": [
    "retriever= vectorstore.as_retriever(\n",
    "    search_type= 'similarity',\n",
    "    search_kwargs= {'k': 4}\n",
    ")"
   ]
  },
  {
   "cell_type": "code",
   "execution_count": 51,
   "id": "34dc5882",
   "metadata": {},
   "outputs": [],
   "source": [
    "query = \"is vijay malya scam is true or not?\""
   ]
  },
  {
   "cell_type": "code",
   "execution_count": 52,
   "id": "dea96be8",
   "metadata": {},
   "outputs": [
    {
     "name": "stdout",
     "output_type": "stream",
     "text": [
      "[Document(id='a6722e15-628d-4cac-9b7f-dc335e30e8e2', metadata={}, page_content=\"If I am assured, absolutely. I will think about it seriously. But [Applause] this episode is not about glorifying a fugitive nor it is about justifying any wrongs. It's about asking the hard questions to the man at the center of one of the India's most controversial financial stories. After 9 years of complete media silence, Vijay Malia chose our podcast figuring out to speak publicly for the first time. I didn't do this podcast to celebrate him. I did it because I was curious. I read his tweets. I heard the headlines, but I never heard the full side of the story because the tweets that he makes are different than what the headlines talk about him. There's a mismatch. As a podcaster, my job is to ask every uncomfortable question, and I did. Vijay Malia claims he never committed fraud. He says he wanted to pay back the loans, that his properties were seized and sold, and that he's being framed. He also says he's ready to face the consequences, whatever they may be, if he's given the\"), Document(id='49719b0f-fb95-463d-9467-a869b04ccee2', metadata={}, page_content=\"is to ask every uncomfortable question, and I did. Vijay Malia claims he never committed fraud. He says he wanted to pay back the loans, that his properties were seized and sold, and that he's being framed. He also says he's ready to face the consequences, whatever they may be, if he's given the fair chance of trial. I've tried to cover his childhood, business building, the man behind the image, the rise, the fall, the good, the bad, and the ugly, the life before, and the life now. I'm not here to decide who's right or wrong. I trust the Indian judicial system to do that. This conversation is for those who want to listen, think and question. It's not about taking sides. It's about understanding all sides. Watch this episode with utmost sincerity and let me know in the comments what do you think. Welcome on figuring out sir. Thank you for doing this. And my objective of this whole podcast is going to be that I want to know your side of story. There are so many things that we have\"), Document(id='41205cd2-bc43-4b02-9942-167d35d78590', metadata={}, page_content=\"Rubbish. some with some uh dummy company called I think Gizmo holding or something like that. Tell me if I had siphoned King Fer money to such an extent as people suggest how would the LN run on the bank's own admission on the debt recovery tribunal's own admission 4,999 crores was a debt right\\n rest is all interest. His suggestions are that I have stolen or misused most of that or all of it. How would the aine fly if all the money borrowed from the banks Vijay Malia pocketed? How would the aine fly? So all these allegations and false narratives being painted by people, if you analyze them, they make no sense. What also is not making sense to me is when the government said that they're going to support you in 2008, the FM said that they'll provide the loan, which they probably did with the banks.\"), Document(id='f6ebfc5d-0a74-4581-926c-62292e097be7', metadata={}, page_content=\"Correct. Okay. And then I'll show you another report about an interview with the prime minister. Okay. March 29, 2019 in which the prime minister has said he owed 9,000 cr but government recovered 14,000 cr says PM Modi on India's action against Vijay Malia. Yeah. But so why would a PM say 9,000 cr where this number? I am as perplexed as you are because the banks have not ever submitted a statement of account to me which in itself is very strange but the prime minister has said it and it has been widely reported all right and it quotes the figure of 9,000 crores now the prime minister of India is not going to make a frivolous statement. Somebody must have told him number but I wonder if there was no keen governmental interest in me. It's not normal for a prime minister of the world's largest democracy to be talking about a recovery from a guarantor called Vijay Malia. He addressed it because your case was very public and a lot of people were questioning it. You became a public\")]\n"
     ]
    }
   ],
   "source": [
    "retrievered_answers = retriever.invoke(query)\n",
    "print(retrievered_answers)"
   ]
  },
  {
   "cell_type": "code",
   "execution_count": 60,
   "id": "51fc5cfb",
   "metadata": {},
   "outputs": [],
   "source": [
    "def format_docs(retrievered_answers):\n",
    "    joined_retrieved_answer = ' '.join([doc.page_content for doc in retrievered_answers])\n",
    "    return joined_retrieved_answer\n"
   ]
  },
  {
   "cell_type": "code",
   "execution_count": 61,
   "id": "e6100611",
   "metadata": {},
   "outputs": [],
   "source": [
    "from langchain_core.runnables import RunnablePassthrough, RunnableParallel, RunnableLambda\n",
    "from langchain_core.output_parsers import StrOutputParser"
   ]
  },
  {
   "cell_type": "code",
   "execution_count": 62,
   "id": "912976bc",
   "metadata": {},
   "outputs": [],
   "source": [
    "prompt = PromptTemplate(\n",
    "    template=\"\"\"\n",
    "      You are a helpful assistant.\n",
    "      Answer ONLY from the provided transcript context.\n",
    "      If the context is insufficient, just say you don't know.\n",
    "      Context: {context},\n",
    "      Question: {question}\n",
    "    \"\"\",\n",
    "    input_variables = {\"context\", \"question\"}\n",
    ")"
   ]
  },
  {
   "cell_type": "code",
   "execution_count": 63,
   "id": "18f1ac88",
   "metadata": {},
   "outputs": [],
   "source": [
    "parallel_chain = RunnableParallel({\n",
    "    \"question\": RunnablePassthrough(),\n",
    "    \"context\": retriever | RunnableLambda(format_docs)\n",
    "}\n",
    ")"
   ]
  },
  {
   "cell_type": "code",
   "execution_count": 64,
   "id": "1fb27fdc",
   "metadata": {},
   "outputs": [],
   "source": [
    "llm = HuggingFaceEndpoint(\n",
    "    repo_id= \"google/gemma-2-2b-it\",\n",
    "    task= \"text-generation\"\n",
    ")\n",
    "model  =  ChatHuggingFace(llm =llm)"
   ]
  },
  {
   "cell_type": "code",
   "execution_count": 65,
   "id": "ce449dda",
   "metadata": {},
   "outputs": [],
   "source": [
    "parser = StrOutputParser()"
   ]
  },
  {
   "cell_type": "code",
   "execution_count": 67,
   "id": "4d8300e4",
   "metadata": {},
   "outputs": [],
   "source": [
    "final_chain = parallel_chain | prompt | model | parser\n",
    "final_result = final_chain.invoke(query)"
   ]
  },
  {
   "cell_type": "code",
   "execution_count": 68,
   "id": "5accc34a",
   "metadata": {},
   "outputs": [
    {
     "name": "stdout",
     "output_type": "stream",
     "text": [
      "Whether Vijay Malia's actions constitute a scam is a complex matter that the podcast aims to explore. \n",
      "\n",
      "The podcast presents an exploration of the controversies surrounding Malia,  pursued through:\n",
      "\n",
      "* Malia's claims: He denies committing fraud and alleges he was framed and wants to face the consequences of its. \n",
      "* The evidence:  The podcast presents contradictory evidence regarding the amounts borrowed by Malia, the alleged recovery by the Indian government, and a gap between initial claims and presented evidence.  \n",
      "\n",
      "The podcast underscores the importance of evaluating all aspects of the case and avoiding knee-jerk judgments. \n",
      "\n",
      "\n",
      "Let me know if you'd like me to summarize any other points from the transcript. \n",
      "\n"
     ]
    }
   ],
   "source": [
    "print(final_result)"
   ]
  },
  {
   "cell_type": "code",
   "execution_count": null,
   "id": "98f700e7",
   "metadata": {},
   "outputs": [],
   "source": []
  }
 ],
 "metadata": {
  "kernelspec": {
   "display_name": "langchainVirtualEnv",
   "language": "python",
   "name": "python3"
  },
  "language_info": {
   "codemirror_mode": {
    "name": "ipython",
    "version": 3
   },
   "file_extension": ".py",
   "mimetype": "text/x-python",
   "name": "python",
   "nbconvert_exporter": "python",
   "pygments_lexer": "ipython3",
   "version": "3.10.11"
  }
 },
 "nbformat": 4,
 "nbformat_minor": 5
}
